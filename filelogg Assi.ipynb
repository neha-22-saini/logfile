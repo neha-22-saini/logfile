{
 "cells": [
  {
   "cell_type": "markdown",
   "id": "d2336dda-47ee-4f51-a26d-2b8c13e3c9a8",
   "metadata": {},
   "source": [
    "                                        Assignment"
   ]
  },
  {
   "cell_type": "markdown",
   "id": "99870d2a-a990-404f-9efa-11ab8eda00d4",
   "metadata": {},
   "source": [
    "                        both practical and Question Answer parts"
   ]
  },
  {
   "cell_type": "code",
   "execution_count": 1,
   "id": "455eb49c-27f7-4859-a234-eca480a9d02e",
   "metadata": {},
   "outputs": [],
   "source": [
    "                                # Ouestion Answer"
   ]
  },
  {
   "cell_type": "code",
   "execution_count": 2,
   "id": "c7b5610f-33dc-4cd5-b824-7be56fe0d1a6",
   "metadata": {},
   "outputs": [],
   "source": [
    "#Q.1)What is the difference between interpreted and compiled languages?\n"
   ]
  },
  {
   "cell_type": "markdown",
   "id": "b313806d-1f21-480b-bff5-39e4e5acd8dc",
   "metadata": {},
   "source": [
    "Ans.\n",
    "The key difference between interpreted and compiled languages is in how the computer turns your code into instructions it can execute — and when that happens.\n",
    "Compiled Languages\n",
    "Process: The source code is translated all at once into machine code (binary instructions) by a compiler before execution.\n",
    "Execution: The resulting executable file runs directly on the CPU without needing the compiler again.\n",
    "\n",
    "Examples: C, C++, Go, Rust.\n",
    "Pros:\n",
    "Usually faster because the code is already machine-ready.\n",
    "Better for performance-heavy tasks.\n",
    "\n",
    " Interpreted Languages\n",
    "Process: The source code is read and executed line-by-line by an interpreter at runtime.\n",
    "Execution: No separate executable file; the interpreter must run each time.\n",
    "Examples: Python, JavaScript, Ruby, PHP.\n",
    "Pros:\n",
    "Easier for quick edits and testing (no compilation step).\n",
    "More flexible and portable.\n",
    "Cons:\n",
    "Usually slower because translation happens while running.\n",
    "Requires the interpreter to be installed."
   ]
  },
  {
   "cell_type": "code",
   "execution_count": 3,
   "id": "e33e9f89-011d-473d-957d-24eaa2155432",
   "metadata": {},
   "outputs": [],
   "source": [
    "#Q.2)What is exception handling in Python?"
   ]
  },
  {
   "cell_type": "markdown",
   "id": "079450e6-32c5-49ce-90e5-4c3684b9a766",
   "metadata": {},
   "source": [
    "Ans.\n",
    "Exception handling in Python is a way to deal with errors that occur while your program is running, so that your program doesn’t crash unexpectedly.\n",
    "\n",
    "Instead of stopping execution when an error happens, Python lets you catch the error and decide what to do — maybe fix it, show a friendly message, or skip the problematic part."
   ]
  },
  {
   "cell_type": "code",
   "execution_count": 4,
   "id": "75cf517b-f55e-4b67-bc54-476e95061004",
   "metadata": {},
   "outputs": [],
   "source": [
    "#Q.3)What is the purpose of the finally block in exception handling?"
   ]
  },
  {
   "cell_type": "markdown",
   "id": "1e8ed86c-89c8-4070-9b3a-cd4ba32ab3a9",
   "metadata": {},
   "source": [
    "Ans.\n",
    "    The finally block in exception handling is used to run code no matter what happens — whether an exception occurs, is handled, or there’s no error at all.\n",
    "    Purpose\n",
    "To ensure important cleanup or final actions are always executed.\n",
    "Common uses:\n",
    "Closing files\n",
    "Releasing network/database connections\n",
    "Releasing memory or system resources\n",
    "Resetting program state\n",
    "\n"
   ]
  },
  {
   "cell_type": "code",
   "execution_count": 5,
   "id": "b1b85702-ee2f-4361-bcad-9d57d4a64455",
   "metadata": {},
   "outputs": [],
   "source": [
    "#Q.4)What is logging in Python?"
   ]
  },
  {
   "cell_type": "markdown",
   "id": "88c9ed1a-9e37-4668-87be-ac3f71ef5a02",
   "metadata": {},
   "source": [
    "Ans.\n",
    "    Logging in Python is a way to record messages about what your program is doing while it runs.\n",
    "It’s like keeping a journal for your program — so you can track events, debug problems, and understand what happened later without printing everything to the screen."
   ]
  },
  {
   "cell_type": "code",
   "execution_count": 6,
   "id": "210d57e8-d8f6-418a-8c35-d890428b5142",
   "metadata": {},
   "outputs": [],
   "source": [
    "#Q.5)F What is the significance of the __del__ method in Python?\n"
   ]
  },
  {
   "cell_type": "markdown",
   "id": "5076c741-4670-4287-a762-c4564d8e5923",
   "metadata": {},
   "source": [
    "Ans.\n",
    "    In Python, the __del__ method is a destructor — a special method that is called just before an object is destroyed like when it’s about to be garbage collected.\n",
    "     Purpose\n",
    "To define cleanup actions that should happen when an object’s lifecycle ends.\n",
    "Typical uses:\n",
    "Closing files or network connections.\n",
    "Releasing system resources.\n",
    "Logging object deletion."
   ]
  },
  {
   "cell_type": "code",
   "execution_count": 7,
   "id": "a7359b7d-3e21-4c2d-b71a-c134b75f164d",
   "metadata": {},
   "outputs": [],
   "source": [
    "#Q.6)F What is the difference between import and from ... import in Python?\n"
   ]
  },
  {
   "cell_type": "markdown",
   "id": "8ec928ae-d20f-4919-a5bb-f128c297defb",
   "metadata": {},
   "source": [
    "Ans.\n",
    "    In Python, both import and from ... import are used to bring code from one module into another, but they work a bit differently.\n",
    "    import Statement\n",
    "Imports the whole module.\n",
    "You have to use the module name (namespace) to access its functions or variables.\n",
    "\n",
    "   from ... import Statement\n",
    "Imports specific parts (functions, classes, variables) from a module directly into your namespace.\n",
    "You can use them without the module name."
   ]
  },
  {
   "cell_type": "code",
   "execution_count": 8,
   "id": "64a25278-fe60-4c85-905e-37541cb3022f",
   "metadata": {},
   "outputs": [],
   "source": [
    "#Q.7)How can you handle multiple exceptions in Python?\n"
   ]
  },
  {
   "cell_type": "markdown",
   "id": "4b032765-a01d-4cb4-a01a-9b457b91ec28",
   "metadata": {},
   "source": [
    "Ans.\n",
    "    In Python, you can handle multiple exceptions in a few different ways, depending on whether you want to handle them differently or in the same way.\n",
    "    Handle Each Exception Separately\n",
    "Use multiple except blocks for different exception types.\n",
    "\n",
    "Handle Multiple Exceptions in One Block (Same Response)\n",
    "Put them in a tuple inside a single except.\n",
    "\n",
    "Catch All Exceptions\n",
    "Use the base Exception class to handle anything.\n",
    "\n",
    "Using else and finally with Multiple Exceptions"
   ]
  },
  {
   "cell_type": "code",
   "execution_count": 9,
   "id": "f26b7c9a-6dbb-4dc4-8e83-b8db83cc5742",
   "metadata": {},
   "outputs": [],
   "source": [
    "#Q.8)What is the purpose of the with statement when handling files in Python?\n"
   ]
  },
  {
   "cell_type": "markdown",
   "id": "3c76ff77-2cab-4098-9917-0116906e78f0",
   "metadata": {},
   "source": [
    "Ans.\n",
    "Purpose\n",
    "When handling files, the with statement:\n",
    "\n",
    "Opens the file.\n",
    "\n",
    "Ensures the file is closed automatically when the block ends,\n",
    "even if an exception occurs inside the block."
   ]
  },
  {
   "cell_type": "code",
   "execution_count": 10,
   "id": "972ca4bc-1472-4d1b-ace7-c2f4ae930453",
   "metadata": {},
   "outputs": [],
   "source": [
    "#Q.9) What is the difference between multithreading and multiprocessing?\n"
   ]
  },
  {
   "cell_type": "markdown",
   "id": "5329d8bf-b9de-47f4-9840-9238588af184",
   "metadata": {},
   "source": [
    "Ans.\n",
    " The difference between multithreading and multiprocessing comes down to how tasks are executed at the same time and how system resources are used.\n",
    "\n",
    " Multithreading\n",
    "Definition: Running multiple threads (smaller units of a process) within the same process.\n",
    "Memory: All threads share the same memory space of the process.\n",
    "Best for:\n",
    "I/O-bound tasks (waiting for input/output like reading files, network requests).\n",
    "Situations where tasks share data and need quick communication.\n",
    "\n",
    "Multiprocessing\n",
    "Definition: Running multiple processes, each with its own Python interpreter and memory space.\n",
    "Memory: Processes do not share memory directly — need inter-process communication (IPC) to share data.\n",
    "Best for:\n",
    "CPU-bound tasks (heavy computation like image processing, math operations).\n",
    "Taking full advantage of multiple CPU cores.\n",
    "No GIL Limitation — each process has its own GIL."
   ]
  },
  {
   "cell_type": "code",
   "execution_count": 11,
   "id": "7103882e-7d01-426d-a0e9-14f228660b54",
   "metadata": {},
   "outputs": [],
   "source": [
    "#Q.10)What are the advantages of using logging in a program?"
   ]
  },
  {
   "cell_type": "markdown",
   "id": "52038e39-3e6e-4dad-896e-c4291e179f40",
   "metadata": {},
   "source": [
    "Ans.Advantages of using logging in a program\n",
    "\n",
    "Logging provides a structured and professional way to track what your program is doing while it runs. Compared to simply using print(), it offers several benefits:\n",
    "\n",
    " Persistent Record of Events\n",
    "Logs can be saved to files, databases, or remote servers.\n",
    "Useful for debugging after the program has run.\n",
    "\n",
    " Different Levels of Importance\n",
    "Logging supports severity levels like:\n",
    "DEBUG – Detailed information for developers.\n",
    "INFO – General program progress.\n",
    "WARNING – Something unexpected, but program still runs.\n",
    "ERROR – A problem that needs attention.\n",
    "CRITICAL – Severe error that may stop the program.\n",
    "\n",
    " Easier Debugging & Maintenance\n",
    "You can keep detailed debug logs in development and turn them off in production without changing code.\n",
    "Tracks when and where issues occur (with timestamps, file names, and line numbers).\n",
    "\n",
    "Flexible Output Options\n",
    "Logs can go to:\n",
    "Console\n",
    "Files\n",
    "Email\n",
    "Network logging servers\n",
    "\n",
    "All configured without rewriting main logic.\n",
    "\n",
    "Thread-Safe & Multiprocess-Safe\n",
    "The Python logging module is designed to work correctly in multithreaded or multiprocessing programs, avoiding mixed-up messages.\n",
    "\n",
    " Non-Intrusive\n",
    "Logging can be added without changing the program's behavior.\n",
    "Unlike print(), it can be disabled or redirected easily.\n"
   ]
  },
  {
   "cell_type": "code",
   "execution_count": 13,
   "id": "ab0d6091-b0b2-482e-bf85-b6ebf237fc6d",
   "metadata": {},
   "outputs": [],
   "source": [
    "#Q.11)What is memory management in Python?\n"
   ]
  },
  {
   "cell_type": "markdown",
   "id": "3de197c3-74b8-42ce-85d5-953bcbadbef2",
   "metadata": {},
   "source": [
    "Ans.\n",
    "Memory management in Python refers to how Python allocates, uses, and frees memory for variables, objects, and data structures during a program’s execution.\n",
    "Python handles most memory tasks automatically, but it has a well-defined system under the hood."
   ]
  },
  {
   "cell_type": "code",
   "execution_count": 14,
   "id": "38787fb5-447a-4018-bce3-225bfd752a53",
   "metadata": {},
   "outputs": [],
   "source": [
    "#Q.12)What are the basic steps involved in exception handling in Python?\n"
   ]
  },
  {
   "cell_type": "markdown",
   "id": "b1319f21-7ee2-4589-93a9-1ab8453fb7e0",
   "metadata": {},
   "source": [
    "Ans.\n",
    "The basic steps in exception handling in Python follow a clear flow using the try, except, else, and finally blocks.\n",
    "Identify Code That Might Fail (try block)\n",
    "Put the code that might raise an exception inside a try block.\n",
    "Python will “watch” this code for errors.\n",
    "\n",
    "Catch and Handle the Error (except block)\n",
    "If an exception occurs in the try block, Python jumps to the matching except.\n",
    "You can handle specific exceptions or catch all.\n",
    "\n",
    " (Optional) Run Code If No Error Occurs (else block)\n",
    "Executes only if the try block runs without any exception.\n"
   ]
  },
  {
   "cell_type": "code",
   "execution_count": 15,
   "id": "63561be9-3edc-4d7c-93e6-5aa560f72f3c",
   "metadata": {},
   "outputs": [],
   "source": [
    "#Q.13)Why is memory management important in Python?\n"
   ]
  },
  {
   "cell_type": "markdown",
   "id": "829ad727-7595-430c-81fc-37e5cfecb5a6",
   "metadata": {},
   "source": [
    "Ans.\n",
    "Memory management is important in Python because it directly affects performance, stability, and scalability of your programs.\n",
    "Even though Python handles memory automatically, understanding and using it wisely can prevent slowdowns, crashes, and memory leaks.\n",
    "\n",
    "Efficient Use of Resources\n",
    "Computers have limited memory (RAM).\n",
    "Good memory management ensures your program only uses what it needs, freeing unused memory for other processes.\n",
    "\n",
    " Better Performance\n",
    "Unused objects still taking space can slow down execution.\n",
    "Efficient memory use leads to faster execution and reduced lag\n",
    "\n",
    " Avoiding Memory Leaks\n",
    "A memory leak happens when unused objects remain in memory because nothing frees them.\n",
    "Over time, this can crash programs or the entire system."
   ]
  },
  {
   "cell_type": "code",
   "execution_count": 16,
   "id": "f5081e5d-9582-422d-bd82-afae1db9ebb0",
   "metadata": {},
   "outputs": [],
   "source": [
    "#Q.14)What is the role of try and except in exception handling?\n"
   ]
  },
  {
   "cell_type": "markdown",
   "id": "63696266-6e09-4bbb-b738-40d2bfec5151",
   "metadata": {},
   "source": [
    "Ans.\n",
    " Role of try\n",
    "The try block contains the code that might raise an exception.\n",
    "Python “watches” this block while it runs.\n",
    "If no error happens → the code runs normally.\n",
    "If an error happens → Python immediately jumps to the matching except block\n",
    "\n",
    "Role of except\n",
    "The except block contains the code that runs if an exception occurs in the try block.\n",
    "It catches the exception and handles it, so the program can continue."
   ]
  },
  {
   "cell_type": "code",
   "execution_count": 17,
   "id": "b0a347b9-9179-4cd1-beff-28c14fcb655d",
   "metadata": {},
   "outputs": [],
   "source": [
    "#Q.15)How does Python's garbage collection system work?"
   ]
  },
  {
   "cell_type": "markdown",
   "id": "1f9619e6-5727-4284-8bad-58f1911cff8b",
   "metadata": {},
   "source": [
    "Ans.\n",
    "It mainly works through reference counting plus a cyclic garbage collector for special cases.\n",
    "\n",
    " Reference Counting (Primary Mechanism)\n",
    "Every Python object has a reference count — the number of variables pointing to it.\n",
    "When you create a variable, the reference count increases; when you delete a variable or reassign it, the count decreases.\n",
    "If the reference count drops to zero, the object’s memory is freed immediately.\n",
    "\n",
    " Cyclic Garbage Collector (Secondary Mechanism)\n",
    "Python’s gc module detects and cleans circular references.\n",
    "It groups objects into generations:\n",
    "Gen 0 – Newly created objects\n",
    "Gen 1 – Objects that survived one collection\n",
    "Gen 2 – Long-lived objects\n",
    "The GC runs occasionally and more frequently on younger generations (because short-lived objects are more common).\n",
    "\n",
    " Finalization\n",
    "If an object defines a __del__ method, it’s called before the object is destroyed.\n",
    "But __del__ can delay garbage collection for objects in cycles, so context managers (with statements) are preferred."
   ]
  },
  {
   "cell_type": "code",
   "execution_count": 18,
   "id": "6108306f-131e-4d7e-baea-f01f30476701",
   "metadata": {},
   "outputs": [],
   "source": [
    "#Q.16) What is the purpose of the else block in exception handling?"
   ]
  },
  {
   "cell_type": "markdown",
   "id": "54fc39f0-d822-4de7-a33d-cf76aba984fc",
   "metadata": {},
   "source": [
    "Ans.\n",
    "In Python’s exception handling, the else block is used to run code only if no exception occurs inside the try block.\n",
    "\n",
    "Purpose\n",
    "Keeps the try block focused on code that might raise exceptions.\n",
    "Moves \"success\" code out of the try block for better readability.\n",
    "Makes the flow of exception handling clearer."
   ]
  },
  {
   "cell_type": "code",
   "execution_count": 19,
   "id": "e4219f6e-d06e-4024-b887-9d173209b16f",
   "metadata": {},
   "outputs": [],
   "source": [
    "#Q.17)What are the common logging levels in Python?"
   ]
  },
  {
   "cell_type": "markdown",
   "id": "ff9e851c-84b0-4161-b380-28b4f38abbf0",
   "metadata": {},
   "source": [
    "Ans.\n",
    "Python’s built-in logging module defines logging levels to indicate the severity or importance of a log message.\n",
    "Level Name          \tNumeric Value                \tPurpose\n",
    "DEBUG\t                  10\t           Detailed information, useful for                                             diagnosing problems (used during                                               development).Level Name\t\n",
    "INFO\t                  20\t         Confirmation that things are                                                         working as expected.\n",
    "WARNING                \t  30\t      Something unexpected happened or could                                       cause problems, but the program still                                                       works.\n",
    "ERROR\t                  40\t         A serious problem occurred; the                                           program failed to perform some                                                       function.\n",
    "CRITICAL\t              50\t   A very severe error; the program may be                                        unable to continue running."
   ]
  },
  {
   "cell_type": "code",
   "execution_count": 20,
   "id": "e0f1ec1c-2240-46f8-bf2a-1752ff02c174",
   "metadata": {},
   "outputs": [],
   "source": [
    "#Q.18)What is the difference be?ween os.fork() and multiprocessing in Python?"
   ]
  },
  {
   "cell_type": "markdown",
   "id": "be19fc16-c075-4c43-9b47-61bb01f09632",
   "metadata": {},
   "source": [
    "Ans.\n",
    "os.fork()\n",
    "What it does:\n",
    "Creates a child process by duplicating the current process.\n",
    "Returns:\n",
    "0 in the child process\n",
    "Child’s PID in the parent process\n",
    " Platform support:\n",
    "Works only on Unix/Linux/macOS ( Not available on Windows).\n",
    "Usage style:\n",
    "Low-level process control; you must handle communication, synchronization, and cleanup manually.\n",
    "\n",
    "multiprocessing Module\n",
    "What it does:\n",
    "High-level API for creating and managing processes.\n",
    "Works on all major platforms (cross-platform).\n",
    "Can start processes using different methods (fork, spawn, forkserver).\n",
    "Provides built-in tools for inter-process communication (Pipes, Queues) and synchronization (Locks, Events)."
   ]
  },
  {
   "cell_type": "code",
   "execution_count": 21,
   "id": "179a803a-3775-4c2f-b25c-af7935cf6b49",
   "metadata": {},
   "outputs": [],
   "source": [
    "#Q.19)What is the importance of closing a file in Python?\n"
   ]
  },
  {
   "cell_type": "markdown",
   "id": "931da929-b297-401f-b52b-52249d573299",
   "metadata": {},
   "source": [
    "Ans.\n",
    "Closing a file in Python is important because it ensures that system resources are released and data is safely written to disk.\n",
    "Why closing a file is important\n",
    "Flushes the buffer\n",
    "When you write to a file, Python may store data in a buffer temporarily for performance reasons.\n",
    "close() ensures that all buffered data is actually written to the file.\n",
    "Frees system resources\n",
    "Each open file uses file descriptors (system resources).\n",
    "If too many files remain open, your program can run out of file handles.\n",
    "Prevents data corruption\n",
    "If a file is left open and the program crashes or exits unexpectedly, data might be partially written or corrupted.|"
   ]
  },
  {
   "cell_type": "code",
   "execution_count": 23,
   "id": "9eeed272-e5fd-4284-b5ad-abfbe7f40eec",
   "metadata": {},
   "outputs": [],
   "source": [
    "#Q.20)What is the difference between file.read() and file.readline() in Python?"
   ]
  },
  {
   "cell_type": "markdown",
   "id": "48a8de3d-aa31-4113-86f8-b5db8c4aae4a",
   "metadata": {},
   "source": [
    "Ans.\n",
    " file.read([size])\n",
    "Reads the entire file by default (or up to size bytes/characters if specified).\n",
    "Returns a string containing all the data read.\n",
    "Moves the file pointer forward by the amount read.\n",
    "\n",
    "file.readline([size])\n",
    "Reads one line from the file (up to the newline \\n).\n",
    "Stops after reaching a newline or the size limit, whichever comes first.\n",
    "Useful for reading files line by line without loading the entire file into memory."
   ]
  },
  {
   "cell_type": "code",
   "execution_count": 24,
   "id": "a4bd3b94-84bf-4fa1-92ea-a8854f1317ee",
   "metadata": {},
   "outputs": [],
   "source": [
    "#Q.21)What is the logging module in Python used for?"
   ]
  },
  {
   "cell_type": "markdown",
   "id": "4f1241c8-5df5-4ed4-87e9-b12479b6403a",
   "metadata": {},
   "source": [
    "Ans.\n",
    "Main purposes of the logging module\n",
    "Track events during execution\n",
    "Helps you know what happened and when it happened.\n",
    "Debugging\n",
    "You can log variable values, function calls, and errors without printing to the console everywhere.\n",
    "Error reporting\n",
    "Logs can capture warnings and errors for later review.\n",
    "Program monitoring\n",
    "Keeps a record of program activity in files or other destinations.\n",
    "Configurable output\n",
    "You can control:\n",
    "     Message format (with timestamps, line numbers, etc\n",
    "     Severity level (DEBUG, INFO, WARNING, ERROR, CRITICAL)\n",
    "     Output location (console, file, email, remote server)"
   ]
  },
  {
   "cell_type": "code",
   "execution_count": 25,
   "id": "1b1f8ecd-a38c-4c88-8859-425de7239402",
   "metadata": {},
   "outputs": [],
   "source": [
    "#Q.22)What is the os module in Python used for in file handling?"
   ]
  },
  {
   "cell_type": "markdown",
   "id": "de683e83-1b57-46ae-8a29-f2273f47710d",
   "metadata": {},
   "source": [
    "Ans.\n",
    "    The os module can help you:\n",
    "\n",
    "1. Working with file paths\n",
    "os.path.exists(path) – Check if a file/directory exists\n",
    "os.path.join(dir, file) – Combine paths in a platform-independent way\n",
    "os.path.abspath(path) – Get the absolute path\n",
    "2. Creating and removing files/directories\n",
    "os.mkdir(\"folder\") – Create a new directory\n",
    "os.makedirs(\"a/b/c\") – Create nested directories\n",
    "os.remove(\"file.txt\") – Delete a file\n",
    "os.rmdir(\"folder\") – Remove an empty directory\n",
    "os.removedirs(\"a/b/c\") – Remove nested empty directories\n",
    "3. Listing files and directories\n",
    "os.listdir(path) – Get a list of files/folders in a directory\n",
    "4. Renaming and moving files\n",
    "os.rename(old_name, new_name) – Rename or move a file"
   ]
  },
  {
   "cell_type": "code",
   "execution_count": 26,
   "id": "8e703eeb-d5f8-4365-aa5a-5c055ef8a7cb",
   "metadata": {},
   "outputs": [],
   "source": [
    "#Q.23) What is the os module in Python used for in file handling?\n"
   ]
  },
  {
   "cell_type": "markdown",
   "id": "0d690cad-9b29-4196-bac1-23e563a4cf48",
   "metadata": {},
   "source": [
    "Ans.\n",
    "\n",
    "In Python, the os module is used to interact with the operating system, and in file handling it helps you manage files and directories at the system level — things like creating folders, deleting files, renaming, moving, or checking if a file exists.\n",
    "        |\n"
   ]
  },
  {
   "cell_type": "code",
   "execution_count": 27,
   "id": "04f47d40-9731-4573-807f-b0c571357852",
   "metadata": {},
   "outputs": [],
   "source": [
    "#Q.24)What are the challenges associated with memory management in Python?\n"
   ]
  },
  {
   "cell_type": "markdown",
   "id": "d070a267-304e-43d6-a8dd-d5692b9b4234",
   "metadata": {},
   "source": [
    "Ans.\n",
    " Memory Leaks\n",
    "Cause: Unused objects remain in memory because they’re still referenced somewhere in the program.\n",
    "Example: Storing objects in a global list without removing them when no longer needed.\n",
    "Impact: Gradually increases memory usage, slowing down programs.\n",
    "\n",
    "Circular References\n",
    "Cause: Two or more objects reference each other, creating a loop.\n",
    "\n",
    "Problem: Python’s reference counting alone can’t free them; only the garbage collector can detect and remove them."
   ]
  },
  {
   "cell_type": "code",
   "execution_count": 28,
   "id": "7211f49c-58a7-4c7e-ae16-91d134427dfc",
   "metadata": {},
   "outputs": [],
   "source": [
    "#Q.25) Why is it important to use multithreading in certain applications?"
   ]
  },
  {
   "cell_type": "markdown",
   "id": "a87e7aa4-9f50-4163-8b70-83f3426bb802",
   "metadata": {},
   "source": [
    "Ans.\n",
    "    Reasons to Use Multithreading\n",
    "1. Better Responsiveness\n",
    "In GUI or server applications, one thread can handle the interface while another processes background tasks.\n",
    "Example: A text editor saving a file in the background while still allowing you to type.\n",
    "2. Efficient I/O-bound Task Handling\n",
    "Threads are ideal when tasks spend time waiting for external resources (disk, network, API calls).\n",
    "While one thread waits, others can continue running.\n",
    "\n",
    "3. Parallel Task Execution\n",
    "Multiple tasks can be executed “at the same time” (or appear so) in a single process, improving throughput.\n",
    "Example: A web server handling hundreds of user requests simultaneously.\n",
    "\n",
    "4. Resource Sharing\n",
    "Threads share memory and data of their parent process, making communication between them faster than between processes.\n",
    "5. Reduced Overhead\n",
    "Creating a thread is generally lighter and faster than creating a separate process.\n"
   ]
  },
  {
   "cell_type": "code",
   "execution_count": null,
   "id": "c661d2c8-d56c-4de6-b3c2-031f55e05d27",
   "metadata": {},
   "outputs": [],
   "source": [
    "  "
   ]
  },
  {
   "cell_type": "code",
   "execution_count": 29,
   "id": "05f20340-caa5-41bb-9fd8-5541efb78b7c",
   "metadata": {},
   "outputs": [],
   "source": [
    "                     # coding part"
   ]
  },
  {
   "cell_type": "code",
   "execution_count": 32,
   "id": "cee14f86-e790-484b-b8a5-f84c4de4068f",
   "metadata": {},
   "outputs": [],
   "source": [
    "#Q.1)How can you open a file for writing in Python and write a string to it"
   ]
  },
  {
   "cell_type": "code",
   "execution_count": 31,
   "id": "aaf8cf4d-6d25-4a2c-b4bb-afa4ef7ced89",
   "metadata": {},
   "outputs": [],
   "source": [
    "# Open file in write mode\n",
    "file = open(\"example.txt\", \"w\")\n",
    "\n",
    "file.write(\"Hello, Python file handling!\")\n",
    "\n",
    "file.close()\n"
   ]
  },
  {
   "cell_type": "code",
   "execution_count": 33,
   "id": "cc96a6ba-c9f3-45e8-a514-e6e70776b211",
   "metadata": {},
   "outputs": [],
   "source": [
    "#Q.2)Write a Python program to read the contents of a file and print each line"
   ]
  },
  {
   "cell_type": "code",
   "execution_count": 34,
   "id": "b32cee25-d0aa-4ddb-8a66-770b64d25b8f",
   "metadata": {},
   "outputs": [
    {
     "name": "stdout",
     "output_type": "stream",
     "text": [
      "Hello, Python file handling!\n"
     ]
    }
   ],
   "source": [
    "# Open the file in read mode\n",
    "with open(\"example.txt\", \"r\") as file:\n",
    "    # Loop through each line in the file\n",
    "    for line in file:\n",
    "        # Print the line after removing the trailing newline\n",
    "        print(line.strip())\n"
   ]
  },
  {
   "cell_type": "code",
   "execution_count": 35,
   "id": "52b7ec68-5236-40c3-882b-65237e0dc320",
   "metadata": {},
   "outputs": [],
   "source": [
    "#Q.3)F How would you handle a case where the file doesn't exist while trying to open it for reading"
   ]
  },
  {
   "cell_type": "code",
   "execution_count": 36,
   "id": "468ba4e7-0791-4bc0-a0dd-244cd68ab0b6",
   "metadata": {},
   "outputs": [
    {
     "name": "stdout",
     "output_type": "stream",
     "text": [
      "Hello, Python file handling!\n"
     ]
    }
   ],
   "source": [
    "try:\n",
    "    with open(\"example.txt\", \"r\") as file:\n",
    "        for line in file:\n",
    "            print(line.strip())\n",
    "except FileNotFoundError:\n",
    "    print(\"Error: The file does not exist.\")\n"
   ]
  },
  {
   "cell_type": "code",
   "execution_count": 37,
   "id": "e29b4704-a5b7-4b82-aa66-f177327fb88c",
   "metadata": {},
   "outputs": [],
   "source": [
    "#Q.4)F Write a Python script that reads from one file and writes its content to another file"
   ]
  },
  {
   "cell_type": "code",
   "execution_count": 38,
   "id": "c227b1f1-0665-409c-81f5-df8549d8a38a",
   "metadata": {},
   "outputs": [
    {
     "name": "stdout",
     "output_type": "stream",
     "text": [
      "Error: The source file does not exist.\n"
     ]
    }
   ],
   "source": [
    "try:\n",
    "    # Open source file for reading\n",
    "    with open(\"source.txt\", \"r\") as source_file:\n",
    "        # Read all contents\n",
    "        content = source_file.read()\n",
    "    \n",
    "    # Open destination file for writing\n",
    "    with open(\"destination.txt\", \"w\") as dest_file:\n",
    "        dest_file.write(content)\n",
    "\n",
    "    print(\"File copied successfully!\")\n",
    "\n",
    "except FileNotFoundError:\n",
    "    print(\"Error: The source file does not exist.\")\n"
   ]
  },
  {
   "cell_type": "code",
   "execution_count": 39,
   "id": "c5c53287-abee-4a23-a4e0-7a0bdd7cd726",
   "metadata": {},
   "outputs": [],
   "source": [
    "#Q.5) How would you catch and handle division by zero error in Python?"
   ]
  },
  {
   "cell_type": "code",
   "execution_count": 40,
   "id": "fc14c2b6-b295-47a5-903f-8b7e618c3430",
   "metadata": {},
   "outputs": [
    {
     "name": "stdout",
     "output_type": "stream",
     "text": [
      "Error: Division by zero is not allowed.\n"
     ]
    }
   ],
   "source": [
    "try:\n",
    "    num1 = 10\n",
    "    num2 = 0\n",
    "    result = num1 / num2\n",
    "    print(\"Result:\", result)\n",
    "except ZeroDivisionError:\n",
    "    print(\"Error: Division by zero is not allowed.\")\n"
   ]
  },
  {
   "cell_type": "code",
   "execution_count": 41,
   "id": "eda0b712-f71f-4617-a568-0bd976ee1f78",
   "metadata": {},
   "outputs": [],
   "source": [
    "#Q.6))F Write a Python program that logs an error message to a log file when a division by zero exception occurs?"
   ]
  },
  {
   "cell_type": "code",
   "execution_count": 42,
   "id": "a413fa0f-582f-454f-b887-a789b44d4fd5",
   "metadata": {},
   "outputs": [
    {
     "name": "stdout",
     "output_type": "stream",
     "text": [
      "Error occurred! Check error_log.txt for details.\n"
     ]
    }
   ],
   "source": [
    "import logging\n",
    "\n",
    "# Configure logging to write to a file\n",
    "logging.basicConfig(filename=\"error_log.txt\",\n",
    "                    level=logging.ERROR,\n",
    "                    format=\"%(asctime)s - %(levelname)s - %(message)s\")\n",
    "\n",
    "try:\n",
    "    num1 = 10\n",
    "    num2 = 0\n",
    "    result = num1 / num2\n",
    "    print(\"Result:\", result)\n",
    "\n",
    "except ZeroDivisionError as e:\n",
    "    logging.error(\"Division by zero attempted: %s\", e)\n",
    "    print(\"Error occurred! Check error_log.txt for details.\")\n"
   ]
  },
  {
   "cell_type": "code",
   "execution_count": 43,
   "id": "a8c24d5c-91a2-4be4-92cc-3800ba68fc30",
   "metadata": {},
   "outputs": [],
   "source": [
    "#Q.7) How do you log information at different levels (INFO, ERROR, WARNING) in Python using the logging moduls"
   ]
  },
  {
   "cell_type": "code",
   "execution_count": 44,
   "id": "8c8062ab-619b-410e-9d7d-4da240e10c63",
   "metadata": {},
   "outputs": [],
   "source": [
    "import logging\n",
    "\n",
    "# Configure logging\n",
    "logging.basicConfig(filename=\"app.log\",\n",
    "                    level=logging.DEBUG,  # Capture all levels\n",
    "                    format=\"%(asctime)s - %(levelname)s - %(message)s\")\n",
    "\n",
    "# Logging messages at different levels\n",
    "logging.debug(\"This is a DEBUG message (detailed diagnostic info).\")\n",
    "logging.info(\"This is an INFO message (general info).\")\n",
    "logging.warning(\"This is a WARNING message (something unexpected).\")\n",
    "logging.error(\"This is an ERROR message (an error occurred).\")\n",
    "logging.critical(\"This is a CRITICAL message (serious failure).\")\n"
   ]
  },
  {
   "cell_type": "code",
   "execution_count": 45,
   "id": "b1205649-8246-443b-bbe0-ceef444dcbb0",
   "metadata": {},
   "outputs": [],
   "source": [
    "#Q.8)Write a program to handle a file opening error using exception handling?"
   ]
  },
  {
   "cell_type": "code",
   "execution_count": 46,
   "id": "162b6390-50f5-4bb2-993d-7a0c837eb24d",
   "metadata": {},
   "outputs": [
    {
     "name": "stdout",
     "output_type": "stream",
     "text": [
      "Error: The file you are trying to open does not exist.\n"
     ]
    }
   ],
   "source": [
    "try:\n",
    "    # Try to open the file in read mode\n",
    "    with open(\"non_existing_file.txt\", \"r\") as file:\n",
    "        content = file.read()\n",
    "        print(content)\n",
    "\n",
    "except FileNotFoundError:\n",
    "    print(\"Error: The file you are trying to open does not exist.\")\n",
    "\n",
    "except PermissionError:\n",
    "    print(\"Error: You don't have permission to read this file.\")\n",
    "\n",
    "except Exception as e:\n",
    "    print(f\"An unexpected error occurred: {e}\")\n"
   ]
  },
  {
   "cell_type": "code",
   "execution_count": 47,
   "id": "c2e5b356-dec0-45e6-a99a-ccf00a9bfb94",
   "metadata": {},
   "outputs": [],
   "source": [
    "#Q.9)How can you read a file line by line and store its content in a list in Python?\n"
   ]
  },
  {
   "cell_type": "code",
   "execution_count": 48,
   "id": "d80e8b64-ad2e-4d5a-8c4f-a3e974e0d7c5",
   "metadata": {},
   "outputs": [
    {
     "name": "stdout",
     "output_type": "stream",
     "text": [
      "['Hello, Python file handling!']\n"
     ]
    }
   ],
   "source": [
    "# Open file in read mode\n",
    "with open(\"example.txt\", \"r\") as file:\n",
    "    lines = file.readlines()\n",
    "\n",
    "# Remove newline characters (\\n)\n",
    "lines = [line.strip() for line in lines]\n",
    "\n",
    "print(lines)\n"
   ]
  },
  {
   "cell_type": "code",
   "execution_count": 49,
   "id": "11475e13-e3a8-479b-b20b-9e66f55bf079",
   "metadata": {},
   "outputs": [],
   "source": [
    "#Q.10)How can you append data to an existing file in Python?\n"
   ]
  },
  {
   "cell_type": "code",
   "execution_count": 50,
   "id": "f94d7dbf-f717-4126-9c51-63874da5ef6c",
   "metadata": {},
   "outputs": [
    {
     "name": "stdout",
     "output_type": "stream",
     "text": [
      "Data appended successfully!\n"
     ]
    }
   ],
   "source": [
    "# Open the file in append mode\n",
    "with open(\"example.txt\", \"a\") as file:\n",
    "    file.write(\"This is new content.\\n\")\n",
    "\n",
    "print(\"Data appended successfully!\")\n"
   ]
  },
  {
   "cell_type": "code",
   "execution_count": 51,
   "id": "cacedef3-d41c-4607-9b46-7d5aac1f2712",
   "metadata": {},
   "outputs": [],
   "source": [
    "#Q.11) Write a Python program that uses a try-except block to handle an error when attempting to access a\n",
    "#dictionary key that doesn't exist"
   ]
  },
  {
   "cell_type": "code",
   "execution_count": 52,
   "id": "ad582638-025b-430f-be4c-605e222c3fa2",
   "metadata": {},
   "outputs": [
    {
     "name": "stdout",
     "output_type": "stream",
     "text": [
      "Error: The key 'city' does not exist in the dictionary.\n"
     ]
    }
   ],
   "source": [
    "# Dictionary with some data\n",
    "my_dict = {\n",
    "    \"name\": \"Alice\",\n",
    "    \"age\": 25\n",
    "}\n",
    "\n",
    "# Key to access\n",
    "key_to_access = \"city\"\n",
    "\n",
    "try:\n",
    "    # Try to access the key\n",
    "    value = my_dict[key_to_access]\n",
    "    print(f\"The value for '{key_to_access}' is: {value}\")\n",
    "\n",
    "except KeyError:\n",
    "    # Handle the missing key\n",
    "    print(f\"Error: The key '{key_to_access}' does not exist in the dictionary.\")\n"
   ]
  },
  {
   "cell_type": "code",
   "execution_count": 53,
   "id": "89740cdf-d545-4c77-a9f4-73dc39897bba",
   "metadata": {},
   "outputs": [],
   "source": [
    "#Q.12)Write a program that demonstrates using multiple except blocks to handle different types of exceptions "
   ]
  },
  {
   "cell_type": "code",
   "execution_count": 59,
   "id": "835342d7-efb0-4592-aca0-d8956db9dfe0",
   "metadata": {},
   "outputs": [
    {
     "name": "stdin",
     "output_type": "stream",
     "text": [
      "Enter a number:  3\n"
     ]
    },
    {
     "name": "stdout",
     "output_type": "stream",
     "text": [
      "Error: List index is out of range.\n",
      "Execution finished.\n"
     ]
    }
   ],
   "source": [
    "try:\n",
    "    # Trigger different errors for demonstration\n",
    "    number = int(input(\"Enter a number: \"))  # Could raise ValueError\n",
    "    result = 10 / number                     # Could raise ZeroDivisionError\n",
    "    \n",
    "    my_list = [1, 2, 3]\n",
    "    print(my_list[5])                        # Could raise IndexError\n",
    "\n",
    "except ValueError:\n",
    "    print(\"Error: Please enter a valid integer.\")\n",
    "\n",
    "except ZeroDivisionError:\n",
    "    print(\"Error: Division by zero is not allowed.\")\n",
    "\n",
    "except IndexError:\n",
    "    print(\"Error: List index is out of range.\")\n",
    "\n",
    "except Exception as e:  # Catch-all for any unexpected error\n",
    "    print(f\"An unexpected error occurred: {e}\")\n",
    "\n",
    "else:\n",
    "    print(f\"Result is: {result}\")\n",
    "\n",
    "finally:\n",
    "    print(\"Execution finished.\")\n"
   ]
  },
  {
   "cell_type": "code",
   "execution_count": 54,
   "id": "2b00bf1b-d9cf-46c2-8d69-7a2260cd714b",
   "metadata": {},
   "outputs": [],
   "source": [
    "#Q.13)How would you check if a file exists before attempting to read it in Python\u001f"
   ]
  },
  {
   "cell_type": "code",
   "execution_count": 56,
   "id": "254772b5-d5ff-4f04-b74a-08aae2a04f26",
   "metadata": {},
   "outputs": [
    {
     "name": "stdout",
     "output_type": "stream",
     "text": [
      "Hello, Python file handling!This is new content.\n",
      "\n"
     ]
    }
   ],
   "source": [
    "from pathlib import Path\n",
    "\n",
    "file_path = Path(\"example.txt\")\n",
    "\n",
    "if file_path.exists():\n",
    "    with file_path.open(\"r\") as file:\n",
    "        print(file.read())\n",
    "else:\n",
    "    print(f\"Error: The file '{file_path}' does not exist.\")\n",
    "\n"
   ]
  },
  {
   "cell_type": "code",
   "execution_count": 60,
   "id": "adb4813a-38d9-46e3-950f-4ac483585eed",
   "metadata": {},
   "outputs": [],
   "source": [
    "#Q.14)Write a program that uses the logging module to log both informational and error messages"
   ]
  },
  {
   "cell_type": "code",
   "execution_count": 62,
   "id": "c3713821-56a5-4195-b36e-57dee52902e9",
   "metadata": {},
   "outputs": [
    {
     "name": "stdin",
     "output_type": "stream",
     "text": [
      "Enter the first number:  8\n",
      "Enter the second number:  4\n"
     ]
    }
   ],
   "source": [
    "import logging\n",
    "\n",
    "# Configure logging\n",
    "logging.basicConfig(\n",
    "    filename=\"app.log\",       # Log file name\n",
    "    level=logging.DEBUG,      # Minimum logging level\n",
    "    format=\"%(asctime)s - %(levelname)s - %(message)s\"\n",
    ")\n",
    "\n",
    "try:\n",
    "    logging.info(\"Program started.\")\n",
    "    \n",
    "    num1 = int(input(\"Enter the first number: \"))\n",
    "    num2 = int(input(\"Enter the second number: \"))\n",
    "    \n",
    "    result = num1 / num2\n",
    "    logging.info(f\"Division successful. Result: {result}\")\n",
    "    \n",
    "except ZeroDivisionError:\n",
    "    logging.error(\"Attempted to divide by zero.\")\n",
    "    \n",
    "except ValueError:\n",
    "    logging.error(\"Invalid input. Please enter integers only.\")\n",
    "    \n",
    "except Exception as e:\n",
    "    logging.error(f\"An unexpected error occurred: {e}\")\n",
    "    \n",
    "finally:\n",
    "    logging.info(\"Program ended.\")\n"
   ]
  },
  {
   "cell_type": "code",
   "execution_count": 63,
   "id": "f00b6027-d239-4ac8-9817-2f90ae061430",
   "metadata": {},
   "outputs": [],
   "source": [
    "#Q.15) Write a Python program that prints the content of a file and handles the case when the file is empty"
   ]
  },
  {
   "cell_type": "code",
   "execution_count": 64,
   "id": "775b2702-49d9-4772-bd4e-5e0687c184cf",
   "metadata": {},
   "outputs": [
    {
     "name": "stdin",
     "output_type": "stream",
     "text": [
      "Enter the file name:  hii\n"
     ]
    },
    {
     "name": "stdout",
     "output_type": "stream",
     "text": [
      "Error: The file 'hii' does not exist.\n"
     ]
    }
   ],
   "source": [
    "def print_file_content(filename):\n",
    "    try:\n",
    "        with open(filename, \"r\") as file:\n",
    "            content = file.read()\n",
    "\n",
    "            if content.strip() == \"\":\n",
    "                print(\"The file is empty.\")\n",
    "            else:\n",
    "                print(\"File content:\\n\")\n",
    "                print(content)\n",
    "\n",
    "    except FileNotFoundError:\n",
    "        print(f\"Error: The file '{filename}' does not exist.\")\n",
    "    except Exception as e:\n",
    "        print(f\"An unexpected error occurred: {e}\")\n",
    "\n",
    "\n",
    "# Example usage\n",
    "filename = input(\"Enter the file name: \")\n",
    "print_file_content(filename)\n"
   ]
  },
  {
   "cell_type": "code",
   "execution_count": 65,
   "id": "350e0ac3-af0c-4a07-bcd2-dca7e4bcca85",
   "metadata": {},
   "outputs": [],
   "source": [
    "#Q.16)Demonstrate how to use memory profiling to check the memory usage of a small program"
   ]
  },
  {
   "cell_type": "code",
   "execution_count": 67,
   "id": "eb675c7c-dfb5-445d-be65-900c2c498841",
   "metadata": {},
   "outputs": [
    {
     "name": "stdout",
     "output_type": "stream",
     "text": [
      "Collecting memory-profiler\n",
      "  Downloading memory_profiler-0.61.0-py3-none-any.whl.metadata (20 kB)\n",
      "Requirement already satisfied: psutil in c:\\users\\nehas\\appdata\\local\\programs\\python\\python313\\lib\\site-packages (from memory-profiler) (7.0.0)\n",
      "Downloading memory_profiler-0.61.0-py3-none-any.whl (31 kB)\n",
      "Installing collected packages: memory-profiler\n",
      "Successfully installed memory-profiler-0.61.0\n",
      "Note: you may need to restart the kernel to use updated packages.\n"
     ]
    },
    {
     "name": "stderr",
     "output_type": "stream",
     "text": [
      "\n",
      "[notice] A new release of pip is available: 25.1.1 -> 25.2\n",
      "[notice] To update, run: C:\\Users\\nehas\\AppData\\Local\\Programs\\Python\\Python313\\python.exe -m pip install --upgrade pip\n"
     ]
    }
   ],
   "source": [
    "pip install memory-profiler\n"
   ]
  },
  {
   "cell_type": "code",
   "execution_count": 68,
   "id": "54b5f8c5-78dd-47db-a876-51b2e7284c4b",
   "metadata": {},
   "outputs": [
    {
     "name": "stdout",
     "output_type": "stream",
     "text": [
      "ERROR: Could not find file C:\\Users\\nehas\\AppData\\Local\\Temp\\ipykernel_10496\\1582324588.py\n",
      "ERROR: Could not find file C:\\Users\\nehas\\AppData\\Local\\Temp\\ipykernel_10496\\1582324588.py\n",
      "List created with 1000000 elements.\n",
      "Data deleted.\n"
     ]
    }
   ],
   "source": [
    "from memory_profiler import profile\n",
    "\n",
    "@profile\n",
    "def create_list():\n",
    "    # Create a large list to simulate memory usage\n",
    "    big_list = [i for i in range(10**6)]\n",
    "    print(f\"List created with {len(big_list)} elements.\")\n",
    "    return big_list\n",
    "\n",
    "@profile\n",
    "def main():\n",
    "    data = create_list()\n",
    "    del data  # Release memory\n",
    "    print(\"Data deleted.\")\n",
    "\n",
    "if __name__ == \"__main__\":\n",
    "    main()\n"
   ]
  },
  {
   "cell_type": "code",
   "execution_count": 69,
   "id": "761763c3-e7b8-4cf5-a554-9c18957ab420",
   "metadata": {},
   "outputs": [
    {
     "ename": "SyntaxError",
     "evalue": "invalid syntax (3977243759.py, line 1)",
     "output_type": "error",
     "traceback": [
      "  \u001b[36mCell\u001b[39m\u001b[36m \u001b[39m\u001b[32mIn[69]\u001b[39m\u001b[32m, line 1\u001b[39m\n\u001b[31m    \u001b[39m\u001b[31mpython -m memory_profiler script.py\u001b[39m\n              ^\n\u001b[31mSyntaxError\u001b[39m\u001b[31m:\u001b[39m invalid syntax\n"
     ]
    }
   ],
   "source": [
    "python -m memory_profiler script.py\n"
   ]
  },
  {
   "cell_type": "code",
   "execution_count": 70,
   "id": "f25fe911-c729-4757-b6bd-ee3757c07b18",
   "metadata": {},
   "outputs": [],
   "source": [
    "#Q17)Write a Python program to create and write a list of numbers to a file, one number per line"
   ]
  },
  {
   "cell_type": "code",
   "execution_count": 71,
   "id": "5fe6fe00-d7fb-4c2f-996c-a3aa0fc6f769",
   "metadata": {},
   "outputs": [
    {
     "name": "stdout",
     "output_type": "stream",
     "text": [
      "Numbers have been written to numbers.txt\n"
     ]
    }
   ],
   "source": [
    "# Define the file name\n",
    "filename = \"numbers.txt\"\n",
    "\n",
    "# Create a list of numbers\n",
    "numbers = [1, 2, 3, 4, 5, 10, 20, 30]\n",
    "\n",
    "# Open the file in write mode and write numbers\n",
    "with open(filename, \"w\") as file:\n",
    "    for num in numbers:\n",
    "        file.write(str(num) + \"\\n\")  # Convert number to string and add newline\n",
    "\n",
    "print(f\"Numbers have been written to {filename}\")\n"
   ]
  },
  {
   "cell_type": "code",
   "execution_count": 72,
   "id": "9d90ad55-1aa9-475b-8cc5-930c85be0d42",
   "metadata": {},
   "outputs": [],
   "source": [
    "#Q.18)How would you implement a basic logging setup that logs to a file with rotation after 1MB?"
   ]
  },
  {
   "cell_type": "code",
   "execution_count": 73,
   "id": "7251c423-1ec5-48c0-ac9b-da32017e961e",
   "metadata": {},
   "outputs": [],
   "source": [
    "import logging\n",
    "from logging.handlers import RotatingFileHandler\n",
    "\n",
    "# Configure the logger\n",
    "logger = logging.getLogger(\"my_logger\")\n",
    "logger.setLevel(logging.DEBUG)  # Log all levels: DEBUG and above\n",
    "\n",
    "# Create a rotating file handler (max 1 MB per file, keep 3 backups)\n",
    "handler = RotatingFileHandler(\n",
    "    \"app.log\", maxBytes=1 * 1024 * 1024, backupCount=3\n",
    ")\n",
    "\n",
    "# Create a log format\n",
    "formatter = logging.Formatter('%(asctime)s - %(levelname)s - %(message)s')\n",
    "handler.setFormatter(formatter)\n",
    "\n",
    "# Add the handler to the logger\n",
    "logger.addHandler(handler)\n",
    "\n",
    "# Example logs\n",
    "logger.info(\"Application started\")\n",
    "for i in range(10000):\n",
    "    logger.debug(f\"Logging entry {i}\")\n",
    "\n",
    "logger.error(\"Something went wrong!\")\n"
   ]
  },
  {
   "cell_type": "code",
   "execution_count": 74,
   "id": "bbb2e52d-2c00-4de0-8253-a9b7a048a290",
   "metadata": {},
   "outputs": [],
   "source": [
    "#Q.19)F Write a program that handles both IndexError and KeyError using a try-except block"
   ]
  },
  {
   "cell_type": "code",
   "execution_count": 75,
   "id": "44fb790b-4302-41ff-ad3f-97b6087da2f5",
   "metadata": {},
   "outputs": [
    {
     "name": "stdout",
     "output_type": "stream",
     "text": [
      "IndexError occurred: list index out of range\n",
      "Program continues...\n"
     ]
    }
   ],
   "source": [
    "# Program to handle IndexError and KeyError\n",
    "\n",
    "try:\n",
    "    # Trigger IndexError\n",
    "    my_list = [1, 2, 3]\n",
    "    print(my_list[5])  # Invalid index\n",
    "\n",
    "    # Trigger KeyError\n",
    "    my_dict = {\"a\": 1, \"b\": 2}\n",
    "    print(my_dict[\"z\"])  # Non-existent key\n",
    "\n",
    "except IndexError as e:\n",
    "    print(f\"IndexError occurred: {e}\")\n",
    "\n",
    "except KeyError as e:\n",
    "    print(f\"KeyError occurred: {e}\")\n",
    "\n",
    "print(\"Program continues...\")\n"
   ]
  },
  {
   "cell_type": "code",
   "execution_count": 76,
   "id": "6559cf15-da1f-42f2-b764-332719529050",
   "metadata": {},
   "outputs": [],
   "source": [
    "#Q.20)How would you open a file and read its contents using a context manager in Python"
   ]
  },
  {
   "cell_type": "code",
   "execution_count": 77,
   "id": "667605e2-f367-483c-9986-06d25a6deda6",
   "metadata": {},
   "outputs": [
    {
     "name": "stdout",
     "output_type": "stream",
     "text": [
      "Hello, Python file handling!This is new content.\n",
      "\n"
     ]
    }
   ],
   "source": [
    "# Open and read a file using a context manager\n",
    "file_path = \"example.txt\"\n",
    "\n",
    "with open(file_path, \"r\") as file:\n",
    "    contents = file.read()\n",
    "    print(contents)\n",
    "\n"
   ]
  },
  {
   "cell_type": "code",
   "execution_count": 78,
   "id": "06e46765-3920-466c-9ca9-076222630798",
   "metadata": {},
   "outputs": [],
   "source": [
    "#Q.21)F Write a Python program that reads a file and prints the number of occurrences of a specific word"
   ]
  },
  {
   "cell_type": "code",
   "execution_count": 80,
   "id": "307f80a1-d333-4910-b8a5-f1321fe63b3f",
   "metadata": {},
   "outputs": [
    {
     "name": "stdout",
     "output_type": "stream",
     "text": [
      "The word 'Python' occurs 1 times in the file.\n"
     ]
    }
   ],
   "source": [
    "# File path and word to search\n",
    "file_path = \"example.txt\"\n",
    "search_word = \"Python\"\n",
    "\n",
    "try:\n",
    "    with open(file_path, \"r\") as file:\n",
    "        content = file.read().lower()  # convert to lowercase for case-insensitive match\n",
    "        \n",
    "        # Count occurrences\n",
    "        count = content.split().count(search_word.lower())\n",
    "        \n",
    "        print(f\"The word '{search_word}' occurs {count} times in the file.\")\n",
    "\n",
    "except FileNotFoundError:\n",
    "    print(f\"Error: The file '{file_path}' does not exist.\")\n"
   ]
  },
  {
   "cell_type": "code",
   "execution_count": 82,
   "id": "f187f4c0-5742-4a97-b575-e4398ab25f60",
   "metadata": {},
   "outputs": [],
   "source": [
    "#Q.22)F How can you check if a file is empty before attempting to read its contents?\n"
   ]
  },
  {
   "cell_type": "code",
   "execution_count": 83,
   "id": "8f0da894-8f8b-41b6-b58a-89ffed7d3172",
   "metadata": {},
   "outputs": [
    {
     "name": "stdout",
     "output_type": "stream",
     "text": [
      "Hello, Python file handling!This is new content.\n",
      "\n"
     ]
    }
   ],
   "source": [
    "import os\n",
    "\n",
    "filename = \"example.txt\"\n",
    "\n",
    "if os.path.exists(filename):\n",
    "    if os.path.getsize(filename) == 0:\n",
    "        print(f\"The file '{filename}' is empty.\")\n",
    "    else:\n",
    "        with open(filename, \"r\") as file:\n",
    "            content = file.read()\n",
    "            print(content)\n",
    "else:\n",
    "    print(f\"The file '{filename}' does not exist.\")\n"
   ]
  },
  {
   "cell_type": "code",
   "execution_count": 84,
   "id": "9909f65b-8cd4-4c70-8f75-b7b591c717e6",
   "metadata": {},
   "outputs": [],
   "source": [
    "#Q.23)Write a Python program that writes to a log file when an error occurs during file handling."
   ]
  },
  {
   "cell_type": "code",
   "execution_count": 1,
   "id": "145de5c5-20e7-42c5-a8fe-e13f56d90e4d",
   "metadata": {},
   "outputs": [
    {
     "name": "stdout",
     "output_type": "stream",
     "text": [
      "Hello, Python file handling!This is new content.\n",
      "\n"
     ]
    }
   ],
   "source": [
    "import logging\n",
    "\n",
    "# Configure logging to write to a file\n",
    "logging.basicConfig(\n",
    "    filename='file_errors.log',\n",
    "    level=logging.ERROR,\n",
    "    format='%(asctime)s - %(levelname)s - %(message)s'\n",
    ")\n",
    "\n",
    "filename = \"example.txt\"\n",
    "\n",
    "try:\n",
    "    with open(filename, \"r\") as file:\n",
    "        content = file.read()\n",
    "        print(content)\n",
    "\n",
    "except FileNotFoundError as e:\n",
    "    logging.error(f\"File not found: {e}\")\n",
    "    print(\"Error: The file does not exist.\")\n",
    "\n",
    "except PermissionError as e:\n",
    "    logging.error(f\"Permission denied: {e}\")\n",
    "    print(\"Error: Permission denied.\")\n",
    "\n",
    "except Exception as e:\n",
    "    logging.error(f\"An unexpected error occurred: {e}\")\n",
    "    print(\"An unexpected error occurred.\")\n"
   ]
  },
  {
   "cell_type": "code",
   "execution_count": null,
   "id": "35d7f848-f96f-4d0b-a0c8-b7b52bd5f59c",
   "metadata": {},
   "outputs": [],
   "source": []
  }
 ],
 "metadata": {
  "kernelspec": {
   "display_name": "Python 3 (ipykernel)",
   "language": "python",
   "name": "python3"
  },
  "language_info": {
   "codemirror_mode": {
    "name": "ipython",
    "version": 3
   },
   "file_extension": ".py",
   "mimetype": "text/x-python",
   "name": "python",
   "nbconvert_exporter": "python",
   "pygments_lexer": "ipython3",
   "version": "3.13.4"
  }
 },
 "nbformat": 4,
 "nbformat_minor": 5
}
